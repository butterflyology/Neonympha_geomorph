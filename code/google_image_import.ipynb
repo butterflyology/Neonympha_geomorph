{
 "cells": [
  {
   "cell_type": "markdown",
   "metadata": {},
   "source": [
    "### Chris Hamm 2019-09-23 (initial code)\n",
    "A jupyter notebook to add *Neonympha* images from google images. "
   ]
  },
  {
   "cell_type": "code",
   "execution_count": 1,
   "metadata": {},
   "outputs": [
    {
     "data": {
      "application/javascript": [
       "IPython.notebook.set_autosave_interval(60000)"
      ]
     },
     "metadata": {},
     "output_type": "display_data"
    },
    {
     "name": "stdout",
     "output_type": "stream",
     "text": [
      "Autosaving every 60 seconds\n"
     ]
    }
   ],
   "source": [
    "%reload_ext autoreload\n",
    "%autoreload 2\n",
    "%matplotlib inline\n",
    "%autosave 60"
   ]
  },
  {
   "cell_type": "code",
   "execution_count": 3,
   "metadata": {},
   "outputs": [],
   "source": [
    "from fastai import *\n",
    "from fastai.vision import *"
   ]
  },
  {
   "cell_type": "code",
   "execution_count": 4,
   "metadata": {},
   "outputs": [],
   "source": [
    "np.random.seed(1138)"
   ]
  },
  {
   "cell_type": "markdown",
   "metadata": {},
   "source": [
    "Now prepare to download the files to our repo"
   ]
  },
  {
   "cell_type": "markdown",
   "metadata": {},
   "source": [
    "Nar"
   ]
  },
  {
   "cell_type": "code",
   "execution_count": 29,
   "metadata": {},
   "outputs": [],
   "source": [
    "Nar_folder = \"Nar\"\n",
    "Nar_file = \"Nar_photos.txt\"\n",
    "Nar_path = Path('../data/images/Nar')\n",
    "Nar_dest = Nar_path/Nar_folder\n",
    "Nar_dest.mkdir(parents = True, exist_ok = True)"
   ]
  },
  {
   "cell_type": "markdown",
   "metadata": {},
   "source": [
    "Nmi"
   ]
  },
  {
   "cell_type": "code",
   "execution_count": 30,
   "metadata": {},
   "outputs": [],
   "source": [
    "Nmi_folder = \"Nmi\"\n",
    "Nmi_file = \"Nmi_photos.txt\"\n",
    "Nmi_path = Path('../data/images/Nmi')\n",
    "Nmi_dest = Nmi_path/Nmi_folder\n",
    "Nmi_dest.mkdir(parents = True, exist_ok = True)"
   ]
  },
  {
   "cell_type": "markdown",
   "metadata": {},
   "source": [
    "Nfr"
   ]
  },
  {
   "cell_type": "code",
   "execution_count": 31,
   "metadata": {},
   "outputs": [],
   "source": [
    "Nfr_folder = \"Nfr\"\n",
    "Nfr_file = \"Nfr_photos.txt\"\n",
    "Nfr_path = Path('../data/images/Nfr')\n",
    "Nfr_dest = Nfr_path/Nfr_folder\n",
    "Nfr_dest.mkdir(parents = True, exist_ok = True)"
   ]
  },
  {
   "cell_type": "markdown",
   "metadata": {},
   "source": [
    "Nhe"
   ]
  },
  {
   "cell_type": "code",
   "execution_count": 32,
   "metadata": {},
   "outputs": [],
   "source": [
    "Nhe_folder = \"Nhe\"\n",
    "Nhe_file = \"Nhe_photos.txt\"\n",
    "Nhe_path = Path('../data/images/Nhe')\n",
    "Nhe_dest = Nhe_path/Nhe_folder\n",
    "Nhe_dest.mkdir(parents = True, exist_ok = True)"
   ]
  },
  {
   "cell_type": "markdown",
   "metadata": {},
   "source": [
    "Download the images"
   ]
  },
  {
   "cell_type": "code",
   "execution_count": 33,
   "metadata": {},
   "outputs": [],
   "source": [
    "classes = ['Nar', 'Nmi', 'Nfr', 'Nhe']"
   ]
  },
  {
   "cell_type": "code",
   "execution_count": 34,
   "metadata": {
    "scrolled": true
   },
   "outputs": [],
   "source": [
    "download_images(Nar_path/Nar_file, Nar_dest, max_pics = 50)\n",
    "download_images(Nmi_path/Nmi_file, Nmi_dest, max_pics = 50)\n",
    "download_images(Nfr_path/Nfr_file, Nfr_dest, max_pics = 50)\n",
    "download_images(Nhe_path/Nhe_file, Nhe_dest, max_pics = 50)"
   ]
  },
  {
   "cell_type": "code",
   "execution_count": null,
   "metadata": {},
   "outputs": [],
   "source": []
  }
 ],
 "metadata": {
  "kernelspec": {
   "display_name": "Python 3",
   "language": "python",
   "name": "python3"
  },
  "language_info": {
   "codemirror_mode": {
    "name": "ipython",
    "version": 3
   },
   "file_extension": ".py",
   "mimetype": "text/x-python",
   "name": "python",
   "nbconvert_exporter": "python",
   "pygments_lexer": "ipython3",
   "version": "3.6.9"
  }
 },
 "nbformat": 4,
 "nbformat_minor": 2
}
