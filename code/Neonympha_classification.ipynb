{
 "cells": [
  {
   "cell_type": "code",
   "execution_count": 2,
   "metadata": {},
   "outputs": [
    {
     "name": "stderr",
     "output_type": "stream",
     "text": [
      "/usr/local/lib/python3.6/site-packages/h5py/__init__.py:36: FutureWarning: Conversion of the second argument of issubdtype from `float` to `np.floating` is deprecated. In future, it will be treated as `np.float64 == np.dtype(float).type`.\n",
      "  from ._conv import register_converters as _register_converters\n",
      "Using TensorFlow backend.\n"
     ]
    }
   ],
   "source": [
    "# Preliminaries (https://github.com/deeplizard/Keras_Jupyter_Notebooks/blob/master/CNN.ipynb)\n",
    "\n",
    "import numpy as np\n",
    "import keras\n",
    "from keras import backend as K\n",
    "from keras.models import Sequential\n",
    "from keras.layers import Activation\n",
    "from keras.layers.core import Dense, Flatten\n",
    "from keras.optimizers import Adam\n",
    "from keras.metrics import categorical_crossentropy\n",
    "from keras.preprocessing.image import ImageDataGenerator\n",
    "from keras.layers.normalization import BatchNormalization\n",
    "from keras.layers.convolutional import *\n",
    "from matplotlib import pyplot as plt\n",
    "from sklearn.metrics import confusion_matrix\n",
    "from keras import layers\n",
    "from keras import models\n",
    "import itertools\n",
    "% matplotlib inline"
   ]
  },
  {
   "cell_type": "code",
   "execution_count": 3,
   "metadata": {},
   "outputs": [],
   "source": [
    "# Create variables for path\n",
    "train_path = 'data/train'\n",
    "valid_path = 'data/valid'\n",
    "test_path = 'data/test'\n",
    "\n",
    "# Need to augment with hue and other ways (crop, skew, rotate)"
   ]
  },
  {
   "cell_type": "code",
   "execution_count": 9,
   "metadata": {},
   "outputs": [
    {
     "name": "stdout",
     "output_type": "stream",
     "text": [
      "Found 382 images belonging to 4 classes.\n",
      "Found 62 images belonging to 4 classes.\n",
      "Found 34 images belonging to 4 classes.\n"
     ]
    }
   ],
   "source": [
    "# Create batches\n",
    "# Strongly consider setting up an alias for ImageDataGenerator with better presets\n",
    "datagen = ImageDataGenerator(\n",
    "    rotation_range = 70, \n",
    "    width_shift_range = 0.3,\n",
    "    height_shift_range = 0.3,\n",
    "    rescale = 1.0/255,\n",
    "    shear_range = 0.3,\n",
    "    zoom_range = 0.3,\n",
    "    horizontal_flip = True, \n",
    "    fill_mode = 'nearest')\n",
    "\n",
    "# consider adding zca_whitening = True\n",
    "train_batch = datagen.flow_from_directory(train_path, target_size = (256, 256), classes = ['areolata', 'helicta', 'francisii', 'mitchellii'], batch_size = 32)\n",
    "\n",
    "valid_batch = ImageDataGenerator().flow_from_directory(valid_path, target_size = (256, 256), classes = ['areolata', 'helicta', 'francisii', 'mitchellii'], batch_size = 8)\n",
    "test_batch = ImageDataGenerator().flow_from_directory(test_path, target_size = (256, 256), classes = ['areolata', 'helicta', 'francisii', 'mitchellii'], batch_size = 4)"
   ]
  },
  {
   "cell_type": "code",
   "execution_count": 10,
   "metadata": {},
   "outputs": [],
   "source": [
    "imgs, labels = next(train_batch) # randomly select batch_size images - requires pillow==5.0"
   ]
  },
  {
   "cell_type": "code",
   "execution_count": 11,
   "metadata": {},
   "outputs": [],
   "source": [
    "# plots 10 images with labels\n",
    "def plots(ims, figsize = (12, 6), rows = 2, interp = False, titles = None):\n",
    "    if type(ims[0]) is np.ndarray:\n",
    "        ims = np.array(ims).astype(np.uint8)\n",
    "        if (ims.shape[-1] != 3):\n",
    "            ims = ims.transpose((0, 2, 3, 1))\n",
    "    f = plt.figure(figsize = figsize)\n",
    "    cols = len(ims)//rows if len(ims) % 2 == 0 else len(ims)//rows + 1\n",
    "    for i in range(len(ims)):\n",
    "        sp = f.add_subplot(rows, cols, i+1)\n",
    "        sp.axis('Off')\n",
    "        if titles is not None:\n",
    "            sp.set_title(titles[i], fontsize = 16)\n",
    "        plt.imshow(ims[i], interpolation = None if interp else 'none')"
   ]
  },
  {
   "cell_type": "code",
   "execution_count": 12,
   "metadata": {},
   "outputs": [
    {
     "data": {
      "image/png": "[encoded data removed]",
      "text/plain": [
       "<Figure size 864x432 with 32 Axes>"
      ]
     },
     "metadata": {},
     "output_type": "display_data"
    }
   ],
   "source": [
    "plots(imgs, titles = labels) "
   ]
  },
  {
   "cell_type": "code",
   "execution_count": 28,
   "metadata": {},
   "outputs": [],
   "source": [
    "# Now to model\n",
    "model = Sequential([\n",
    "        Conv2D(16, (3, 3), activation='relu', input_shape = (256, 256, 3)),\n",
    "        Conv2D(8, (3, 3), activation='relu', input_shape = (256, 256, 3)),\n",
    "        Flatten(),\n",
    "        Dense(4, activation = 'softmax'),\n",
    "    ])"
   ]
  },
  {
   "cell_type": "code",
   "execution_count": 29,
   "metadata": {},
   "outputs": [],
   "source": [
    "model.compile(Adam(lr = 0.0001), \n",
    "              loss = 'categorical_crossentropy', \n",
    "              metrics = ['accuracy'])"
   ]
  },
  {
   "cell_type": "code",
   "execution_count": 30,
   "metadata": {},
   "outputs": [
    {
     "name": "stdout",
     "output_type": "stream",
     "text": [
      "_________________________________________________________________\n",
      "Layer (type)                 Output Shape              Param #   \n",
      "=================================================================\n",
      "conv2d_17 (Conv2D)           (None, 254, 254, 16)      448       \n",
      "_________________________________________________________________\n",
      "conv2d_18 (Conv2D)           (None, 252, 252, 8)       1160      \n",
      "_________________________________________________________________\n",
      "flatten_8 (Flatten)          (None, 508032)            0         \n",
      "_________________________________________________________________\n",
      "dense_13 (Dense)             (None, 4)                 2032132   \n",
      "=================================================================\n",
      "Total params: 2,033,740\n",
      "Trainable params: 2,033,740\n",
      "Non-trainable params: 0\n",
      "_________________________________________________________________\n"
     ]
    }
   ],
   "source": [
    "model.summary()"
   ]
  },
  {
   "cell_type": "code",
   "execution_count": 31,
   "metadata": {},
   "outputs": [
    {
     "name": "stdout",
     "output_type": "stream",
     "text": [
      "Epoch 1/5\n",
      " - 75s - loss: 7.7062 - acc: 0.4971 - val_loss: 10.1388 - val_acc: 0.3710\n",
      "Epoch 2/5\n",
      " - 62s - loss: 7.4996 - acc: 0.5347 - val_loss: 10.1388 - val_acc: 0.3710\n",
      "Epoch 3/5\n",
      " - 62s - loss: 7.5938 - acc: 0.5289 - val_loss: 10.1388 - val_acc: 0.3710\n",
      "Epoch 4/5\n",
      " - 62s - loss: 8.0590 - acc: 0.5000 - val_loss: 10.1388 - val_acc: 0.3710\n",
      "Epoch 5/5\n",
      " - 63s - loss: 7.3130 - acc: 0.5463 - val_loss: 10.1388 - val_acc: 0.3710\n"
     ]
    },
    {
     "data": {
      "text/plain": [
       "<keras.callbacks.History at 0x125a70438>"
      ]
     },
     "execution_count": 31,
     "metadata": {},
     "output_type": "execute_result"
    }
   ],
   "source": [
    "model.fit_generator(train_batch, \n",
    "                    steps_per_epoch = 13, \n",
    "                    validation_data = valid_batch, \n",
    "                    validation_steps = 8, \n",
    "                    epochs = 5, \n",
    "                    verbose = 2)"
   ]
  },
  {
   "cell_type": "code",
   "execution_count": null,
   "metadata": {},
   "outputs": [],
   "source": [
    "# A different "
   ]
  },
  {
   "cell_type": "code",
   "execution_count": 34,
   "metadata": {},
   "outputs": [],
   "source": [
    "# another formulation\n",
    "model = models.Sequential()\n",
    "model.add(layers.Conv2D(32, (3, 3), activation = 'relu', input_shape = (256, 256, 3)))\n",
    "model.add(layers.Conv2D(32, (3, 3), activation = 'relu'))\n",
    "model.add(layers.MaxPooling2D(2, 2))\n",
    "model.add(layers.Conv2D(64, (3, 3), activation = 'relu'))\n",
    "model.add(layers.Flatten())\n",
    "model.add(layers.Dense(8, activation = 'relu'))\n",
    "model.add(layers.Dense(4, activation = 'softmax'))\n"
   ]
  },
  {
   "cell_type": "code",
   "execution_count": 35,
   "metadata": {},
   "outputs": [
    {
     "name": "stdout",
     "output_type": "stream",
     "text": [
      "_________________________________________________________________\n",
      "Layer (type)                 Output Shape              Param #   \n",
      "=================================================================\n",
      "conv2d_22 (Conv2D)           (None, 254, 254, 32)      896       \n",
      "_________________________________________________________________\n",
      "conv2d_23 (Conv2D)           (None, 252, 252, 32)      9248      \n",
      "_________________________________________________________________\n",
      "max_pooling2d_7 (MaxPooling2 (None, 126, 126, 32)      0         \n",
      "_________________________________________________________________\n",
      "conv2d_24 (Conv2D)           (None, 124, 124, 64)      18496     \n",
      "_________________________________________________________________\n",
      "flatten_10 (Flatten)         (None, 984064)            0         \n",
      "_________________________________________________________________\n",
      "dense_16 (Dense)             (None, 8)                 7872520   \n",
      "_________________________________________________________________\n",
      "dense_17 (Dense)             (None, 4)                 36        \n",
      "=================================================================\n",
      "Total params: 7,901,196\n",
      "Trainable params: 7,901,196\n",
      "Non-trainable params: 0\n",
      "_________________________________________________________________\n"
     ]
    }
   ],
   "source": [
    "model.summary()"
   ]
  },
  {
   "cell_type": "code",
   "execution_count": 37,
   "metadata": {},
   "outputs": [],
   "source": [
    "model.compile(optimizer = 'rmsprop',\n",
    "             loss = 'categorical_crossentropy',\n",
    "             metrics = ['accuracy'])"
   ]
  },
  {
   "cell_type": "code",
   "execution_count": 38,
   "metadata": {},
   "outputs": [
    {
     "name": "stdout",
     "output_type": "stream",
     "text": [
      "Epoch 1/5\n",
      " - 90s - loss: 11.4244 - acc: 0.2885 - val_loss: 11.4386 - val_acc: 0.2903\n",
      "Epoch 2/5\n",
      " - 88s - loss: 11.3524 - acc: 0.2957 - val_loss: 11.4386 - val_acc: 0.2903\n",
      "Epoch 3/5\n",
      " - 99s - loss: 11.5521 - acc: 0.2833 - val_loss: 11.4386 - val_acc: 0.2903\n",
      "Epoch 4/5\n",
      " - 98s - loss: 11.0966 - acc: 0.3115 - val_loss: 11.4386 - val_acc: 0.2903\n",
      "Epoch 5/5\n",
      " - 93s - loss: 11.3763 - acc: 0.2942 - val_loss: 11.4386 - val_acc: 0.2903\n"
     ]
    },
    {
     "data": {
      "text/plain": [
       "<keras.callbacks.History at 0x11acfc6d8>"
      ]
     },
     "execution_count": 38,
     "metadata": {},
     "output_type": "execute_result"
    }
   ],
   "source": [
    "model.fit_generator(train_batch, \n",
    "                    steps_per_epoch = 13, \n",
    "                    validation_data = valid_batch, \n",
    "                    validation_steps = 8, \n",
    "                    epochs = 5, \n",
    "                    verbose = 2)"
   ]
  },
  {
   "cell_type": "code",
   "execution_count": null,
   "metadata": {},
   "outputs": [],
   "source": []
  }
 ],
 "metadata": {
  "kernelspec": {
   "display_name": "Python 3",
   "language": "python",
   "name": "python3"
  },
  "language_info": {
   "codemirror_mode": {
    "name": "ipython",
    "version": 3
   },
   "file_extension": ".py",
   "mimetype": "text/x-python",
   "name": "python",
   "nbconvert_exporter": "python",
   "pygments_lexer": "ipython3",
   "version": "3.6.5"
  }
 },
 "nbformat": 4,
 "nbformat_minor": 2
}
