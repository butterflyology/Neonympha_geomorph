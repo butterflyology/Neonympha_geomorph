{
 "cells": [
  {
   "cell_type": "markdown",
   "metadata": {},
   "source": [
    "### *Neonympha* classificiation with `pytorch` and `fastai`\n",
    "\n",
    "Chris Hamm - 2019-09-19 (first code)\n",
    "\n",
    "I have a lot of photos of *Neonympha* butterflies. Can a CNN tell them apart?"
   ]
  },
  {
   "cell_type": "markdown",
   "metadata": {},
   "source": [
    "### Preliminaries"
   ]
  },
  {
   "cell_type": "markdown",
   "metadata": {},
   "source": [
    "Prepare the computing environment"
   ]
  },
  {
   "cell_type": "code",
   "execution_count": 1,
   "metadata": {},
   "outputs": [
    {
     "data": {
      "application/javascript": [
       "IPython.notebook.set_autosave_interval(60000)"
      ]
     },
     "metadata": {},
     "output_type": "display_data"
    },
    {
     "name": "stdout",
     "output_type": "stream",
     "text": [
      "Autosaving every 60 seconds\n"
     ]
    }
   ],
   "source": [
    "%reload_ext autoreload\n",
    "%autoreload 2\n",
    "%matplotlib inline\n",
    "%autosave 60"
   ]
  },
  {
   "cell_type": "code",
   "execution_count": 2,
   "metadata": {},
   "outputs": [],
   "source": [
    "from fastai import *\n",
    "from fastai.vision import *"
   ]
  },
  {
   "cell_type": "markdown",
   "metadata": {},
   "source": [
    "Set the random seed"
   ]
  },
  {
   "cell_type": "code",
   "execution_count": 3,
   "metadata": {},
   "outputs": [],
   "source": [
    "np.random.seed(1138)"
   ]
  },
  {
   "cell_type": "markdown",
   "metadata": {},
   "source": [
    "Read in the data"
   ]
  },
  {
   "cell_type": "code",
   "execution_count": 5,
   "metadata": {},
   "outputs": [],
   "source": [
    "path = Path('../data/images/')"
   ]
  },
  {
   "cell_type": "code",
   "execution_count": 6,
   "metadata": {},
   "outputs": [
    {
     "data": {
      "text/plain": [
       "PosixPath('../data/images')"
      ]
     },
     "execution_count": 6,
     "metadata": {},
     "output_type": "execute_result"
    }
   ],
   "source": []
  },
  {
   "cell_type": "code",
   "execution_count": null,
   "metadata": {},
   "outputs": [],
   "source": []
  },
  {
   "cell_type": "code",
   "execution_count": null,
   "metadata": {},
   "outputs": [],
   "source": []
  },
  {
   "cell_type": "code",
   "execution_count": null,
   "metadata": {},
   "outputs": [],
   "source": []
  },
  {
   "cell_type": "code",
   "execution_count": null,
   "metadata": {},
   "outputs": [],
   "source": []
  },
  {
   "cell_type": "code",
   "execution_count": null,
   "metadata": {},
   "outputs": [],
   "source": []
  },
  {
   "cell_type": "code",
   "execution_count": 33,
   "metadata": {},
   "outputs": [],
   "source": [
    "image_path = '../data/images/'"
   ]
  },
  {
   "cell_type": "code",
   "execution_count": 43,
   "metadata": {},
   "outputs": [
    {
     "name": "stdout",
     "output_type": "stream",
     "text": [
      "[]\n"
     ]
    }
   ],
   "source": [
    "file_names = get_image_files(image_path)\n",
    "print(file_names[:4])"
   ]
  },
  {
   "cell_type": "markdown",
   "metadata": {},
   "source": [
    "Creat the pattern to identify the categories (Nmi, Nfr, Nar, Nhe)"
   ]
  },
  {
   "cell_type": "code",
   "execution_count": 35,
   "metadata": {},
   "outputs": [],
   "source": [
    "cat_pat = r'([^/]+_.+.JPG)$'"
   ]
  },
  {
   "cell_type": "code",
   "execution_count": 41,
   "metadata": {
    "scrolled": true
   },
   "outputs": [
    {
     "name": "stderr",
     "output_type": "stream",
     "text": [
      "/opt/conda/lib/python3.6/site-packages/fastai/data_block.py:451: UserWarning: Your training set is empty. If this is by design, pass `ignore_empty=True` to remove this warning.\n",
      "  warn(\"Your training set is empty. If this is by design, pass `ignore_empty=True` to remove this warning.\")\n",
      "/opt/conda/lib/python3.6/site-packages/fastai/data_block.py:454: UserWarning: Your validation set is empty. If this is by design, use `split_none()`\n",
      "                 or pass `ignore_empty=True` when labelling to remove this warning.\n",
      "  or pass `ignore_empty=True` when labelling to remove this warning.\"\"\")\n"
     ]
    },
    {
     "ename": "IndexError",
     "evalue": "index 0 is out of bounds for axis 0 with size 0",
     "output_type": "error",
     "traceback": [
      "\u001b[0;31m---------------------------------------------------------------------------\u001b[0m",
      "\u001b[0;31mIndexError\u001b[0m                                Traceback (most recent call last)",
      "\u001b[0;32m<ipython-input-41-fc3eadc48f40>\u001b[0m in \u001b[0;36m<module>\u001b[0;34m\u001b[0m\n\u001b[1;32m      1\u001b[0m image_data = ImageDataBunch.from_folder(image_path,file_names, \\\n\u001b[1;32m      2\u001b[0m                                          \u001b[0mds_tfms\u001b[0m \u001b[0;34m=\u001b[0m \u001b[0mget_transforms\u001b[0m\u001b[0;34m(\u001b[0m\u001b[0;34m)\u001b[0m\u001b[0;34m,\u001b[0m\u001b[0;31m \u001b[0m\u001b[0;31m\\\u001b[0m\u001b[0;34m\u001b[0m\u001b[0;34m\u001b[0m\u001b[0m\n\u001b[0;32m----> 3\u001b[0;31m                                          size = 224)\n\u001b[0m",
      "\u001b[0;32m/opt/conda/lib/python3.6/site-packages/fastai/vision/data.py\u001b[0m in \u001b[0;36mfrom_folder\u001b[0;34m(cls, path, train, valid, valid_pct, seed, classes, **kwargs)\u001b[0m\n\u001b[1;32m    108\u001b[0m         \u001b[0;32mif\u001b[0m \u001b[0mvalid_pct\u001b[0m \u001b[0;32mis\u001b[0m \u001b[0;32mNone\u001b[0m\u001b[0;34m:\u001b[0m \u001b[0msrc\u001b[0m \u001b[0;34m=\u001b[0m \u001b[0mil\u001b[0m\u001b[0;34m.\u001b[0m\u001b[0msplit_by_folder\u001b[0m\u001b[0;34m(\u001b[0m\u001b[0mtrain\u001b[0m\u001b[0;34m=\u001b[0m\u001b[0mtrain\u001b[0m\u001b[0;34m,\u001b[0m \u001b[0mvalid\u001b[0m\u001b[0;34m=\u001b[0m\u001b[0mvalid\u001b[0m\u001b[0;34m)\u001b[0m\u001b[0;34m\u001b[0m\u001b[0;34m\u001b[0m\u001b[0m\n\u001b[1;32m    109\u001b[0m         \u001b[0;32melse\u001b[0m\u001b[0;34m:\u001b[0m \u001b[0msrc\u001b[0m \u001b[0;34m=\u001b[0m \u001b[0mil\u001b[0m\u001b[0;34m.\u001b[0m\u001b[0msplit_by_rand_pct\u001b[0m\u001b[0;34m(\u001b[0m\u001b[0mvalid_pct\u001b[0m\u001b[0;34m,\u001b[0m \u001b[0mseed\u001b[0m\u001b[0;34m)\u001b[0m\u001b[0;34m\u001b[0m\u001b[0;34m\u001b[0m\u001b[0m\n\u001b[0;32m--> 110\u001b[0;31m         \u001b[0msrc\u001b[0m \u001b[0;34m=\u001b[0m \u001b[0msrc\u001b[0m\u001b[0;34m.\u001b[0m\u001b[0mlabel_from_folder\u001b[0m\u001b[0;34m(\u001b[0m\u001b[0mclasses\u001b[0m\u001b[0;34m=\u001b[0m\u001b[0mclasses\u001b[0m\u001b[0;34m)\u001b[0m\u001b[0;34m\u001b[0m\u001b[0;34m\u001b[0m\u001b[0m\n\u001b[0m\u001b[1;32m    111\u001b[0m         \u001b[0;32mreturn\u001b[0m \u001b[0mcls\u001b[0m\u001b[0;34m.\u001b[0m\u001b[0mcreate_from_ll\u001b[0m\u001b[0;34m(\u001b[0m\u001b[0msrc\u001b[0m\u001b[0;34m,\u001b[0m \u001b[0;34m**\u001b[0m\u001b[0mkwargs\u001b[0m\u001b[0;34m)\u001b[0m\u001b[0;34m\u001b[0m\u001b[0;34m\u001b[0m\u001b[0m\n\u001b[1;32m    112\u001b[0m \u001b[0;34m\u001b[0m\u001b[0m\n",
      "\u001b[0;32m/opt/conda/lib/python3.6/site-packages/fastai/data_block.py\u001b[0m in \u001b[0;36m_inner\u001b[0;34m(*args, **kwargs)\u001b[0m\n\u001b[1;32m    470\u001b[0m         \u001b[0;32massert\u001b[0m \u001b[0misinstance\u001b[0m\u001b[0;34m(\u001b[0m\u001b[0mfv\u001b[0m\u001b[0;34m,\u001b[0m \u001b[0mCallable\u001b[0m\u001b[0;34m)\u001b[0m\u001b[0;34m\u001b[0m\u001b[0;34m\u001b[0m\u001b[0m\n\u001b[1;32m    471\u001b[0m         \u001b[0;32mdef\u001b[0m \u001b[0m_inner\u001b[0m\u001b[0;34m(\u001b[0m\u001b[0;34m*\u001b[0m\u001b[0margs\u001b[0m\u001b[0;34m,\u001b[0m \u001b[0;34m**\u001b[0m\u001b[0mkwargs\u001b[0m\u001b[0;34m)\u001b[0m\u001b[0;34m:\u001b[0m\u001b[0;34m\u001b[0m\u001b[0;34m\u001b[0m\u001b[0m\n\u001b[0;32m--> 472\u001b[0;31m             \u001b[0mself\u001b[0m\u001b[0;34m.\u001b[0m\u001b[0mtrain\u001b[0m \u001b[0;34m=\u001b[0m \u001b[0mft\u001b[0m\u001b[0;34m(\u001b[0m\u001b[0;34m*\u001b[0m\u001b[0margs\u001b[0m\u001b[0;34m,\u001b[0m \u001b[0mfrom_item_lists\u001b[0m\u001b[0;34m=\u001b[0m\u001b[0;32mTrue\u001b[0m\u001b[0;34m,\u001b[0m \u001b[0;34m**\u001b[0m\u001b[0mkwargs\u001b[0m\u001b[0;34m)\u001b[0m\u001b[0;34m\u001b[0m\u001b[0;34m\u001b[0m\u001b[0m\n\u001b[0m\u001b[1;32m    473\u001b[0m             \u001b[0;32massert\u001b[0m \u001b[0misinstance\u001b[0m\u001b[0;34m(\u001b[0m\u001b[0mself\u001b[0m\u001b[0;34m.\u001b[0m\u001b[0mtrain\u001b[0m\u001b[0;34m,\u001b[0m \u001b[0mLabelList\u001b[0m\u001b[0;34m)\u001b[0m\u001b[0;34m\u001b[0m\u001b[0;34m\u001b[0m\u001b[0m\n\u001b[1;32m    474\u001b[0m             \u001b[0mkwargs\u001b[0m\u001b[0;34m[\u001b[0m\u001b[0;34m'label_cls'\u001b[0m\u001b[0;34m]\u001b[0m \u001b[0;34m=\u001b[0m \u001b[0mself\u001b[0m\u001b[0;34m.\u001b[0m\u001b[0mtrain\u001b[0m\u001b[0;34m.\u001b[0m\u001b[0my\u001b[0m\u001b[0;34m.\u001b[0m\u001b[0m__class__\u001b[0m\u001b[0;34m\u001b[0m\u001b[0;34m\u001b[0m\u001b[0m\n",
      "\u001b[0;32m/opt/conda/lib/python3.6/site-packages/fastai/data_block.py\u001b[0m in \u001b[0;36mlabel_from_folder\u001b[0;34m(self, label_cls, **kwargs)\u001b[0m\n\u001b[1;32m    299\u001b[0m         \u001b[0;34m\"Give a label to each filename depending on its folder.\"\u001b[0m\u001b[0;34m\u001b[0m\u001b[0;34m\u001b[0m\u001b[0m\n\u001b[1;32m    300\u001b[0m         return self.label_from_func(func=lambda o: (o.parts if isinstance(o, Path) else o.split(os.path.sep))[-2],\n\u001b[0;32m--> 301\u001b[0;31m                                     label_cls=label_cls, **kwargs)\n\u001b[0m\u001b[1;32m    302\u001b[0m \u001b[0;34m\u001b[0m\u001b[0m\n\u001b[1;32m    303\u001b[0m     \u001b[0;32mdef\u001b[0m \u001b[0mlabel_from_re\u001b[0m\u001b[0;34m(\u001b[0m\u001b[0mself\u001b[0m\u001b[0;34m,\u001b[0m \u001b[0mpat\u001b[0m\u001b[0;34m:\u001b[0m\u001b[0mstr\u001b[0m\u001b[0;34m,\u001b[0m \u001b[0mfull_path\u001b[0m\u001b[0;34m:\u001b[0m\u001b[0mbool\u001b[0m\u001b[0;34m=\u001b[0m\u001b[0;32mFalse\u001b[0m\u001b[0;34m,\u001b[0m \u001b[0mlabel_cls\u001b[0m\u001b[0;34m:\u001b[0m\u001b[0mCallable\u001b[0m\u001b[0;34m=\u001b[0m\u001b[0;32mNone\u001b[0m\u001b[0;34m,\u001b[0m \u001b[0;34m**\u001b[0m\u001b[0mkwargs\u001b[0m\u001b[0;34m)\u001b[0m\u001b[0;34m->\u001b[0m\u001b[0;34m'LabelList'\u001b[0m\u001b[0;34m:\u001b[0m\u001b[0;34m\u001b[0m\u001b[0;34m\u001b[0m\u001b[0m\n",
      "\u001b[0;32m/opt/conda/lib/python3.6/site-packages/fastai/data_block.py\u001b[0m in \u001b[0;36mlabel_from_func\u001b[0;34m(self, func, label_cls, **kwargs)\u001b[0m\n\u001b[1;32m    294\u001b[0m     \u001b[0;32mdef\u001b[0m \u001b[0mlabel_from_func\u001b[0m\u001b[0;34m(\u001b[0m\u001b[0mself\u001b[0m\u001b[0;34m,\u001b[0m \u001b[0mfunc\u001b[0m\u001b[0;34m:\u001b[0m\u001b[0mCallable\u001b[0m\u001b[0;34m,\u001b[0m \u001b[0mlabel_cls\u001b[0m\u001b[0;34m:\u001b[0m\u001b[0mCallable\u001b[0m\u001b[0;34m=\u001b[0m\u001b[0;32mNone\u001b[0m\u001b[0;34m,\u001b[0m \u001b[0;34m**\u001b[0m\u001b[0mkwargs\u001b[0m\u001b[0;34m)\u001b[0m\u001b[0;34m->\u001b[0m\u001b[0;34m'LabelList'\u001b[0m\u001b[0;34m:\u001b[0m\u001b[0;34m\u001b[0m\u001b[0;34m\u001b[0m\u001b[0m\n\u001b[1;32m    295\u001b[0m         \u001b[0;34m\"Apply `func` to every input to get its label.\"\u001b[0m\u001b[0;34m\u001b[0m\u001b[0;34m\u001b[0m\u001b[0m\n\u001b[0;32m--> 296\u001b[0;31m         \u001b[0;32mreturn\u001b[0m \u001b[0mself\u001b[0m\u001b[0;34m.\u001b[0m\u001b[0m_label_from_list\u001b[0m\u001b[0;34m(\u001b[0m\u001b[0;34m[\u001b[0m\u001b[0mfunc\u001b[0m\u001b[0;34m(\u001b[0m\u001b[0mo\u001b[0m\u001b[0;34m)\u001b[0m \u001b[0;32mfor\u001b[0m \u001b[0mo\u001b[0m \u001b[0;32min\u001b[0m \u001b[0mself\u001b[0m\u001b[0;34m.\u001b[0m\u001b[0mitems\u001b[0m\u001b[0;34m]\u001b[0m\u001b[0;34m,\u001b[0m \u001b[0mlabel_cls\u001b[0m\u001b[0;34m=\u001b[0m\u001b[0mlabel_cls\u001b[0m\u001b[0;34m,\u001b[0m \u001b[0;34m**\u001b[0m\u001b[0mkwargs\u001b[0m\u001b[0;34m)\u001b[0m\u001b[0;34m\u001b[0m\u001b[0;34m\u001b[0m\u001b[0m\n\u001b[0m\u001b[1;32m    297\u001b[0m \u001b[0;34m\u001b[0m\u001b[0m\n\u001b[1;32m    298\u001b[0m     \u001b[0;32mdef\u001b[0m \u001b[0mlabel_from_folder\u001b[0m\u001b[0;34m(\u001b[0m\u001b[0mself\u001b[0m\u001b[0;34m,\u001b[0m \u001b[0mlabel_cls\u001b[0m\u001b[0;34m:\u001b[0m\u001b[0mCallable\u001b[0m\u001b[0;34m=\u001b[0m\u001b[0;32mNone\u001b[0m\u001b[0;34m,\u001b[0m \u001b[0;34m**\u001b[0m\u001b[0mkwargs\u001b[0m\u001b[0;34m)\u001b[0m\u001b[0;34m->\u001b[0m\u001b[0;34m'LabelList'\u001b[0m\u001b[0;34m:\u001b[0m\u001b[0;34m\u001b[0m\u001b[0;34m\u001b[0m\u001b[0m\n",
      "\u001b[0;32m/opt/conda/lib/python3.6/site-packages/fastai/data_block.py\u001b[0m in \u001b[0;36m_label_from_list\u001b[0;34m(self, labels, label_cls, from_item_lists, **kwargs)\u001b[0m\n\u001b[1;32m    269\u001b[0m             \u001b[0;32mraise\u001b[0m \u001b[0mException\u001b[0m\u001b[0;34m(\u001b[0m\u001b[0;34m\"Your data isn't split, if you don't want a validation set, please use `split_none`.\"\u001b[0m\u001b[0;34m)\u001b[0m\u001b[0;34m\u001b[0m\u001b[0;34m\u001b[0m\u001b[0m\n\u001b[1;32m    270\u001b[0m         \u001b[0mlabels\u001b[0m \u001b[0;34m=\u001b[0m \u001b[0marray\u001b[0m\u001b[0;34m(\u001b[0m\u001b[0mlabels\u001b[0m\u001b[0;34m,\u001b[0m \u001b[0mdtype\u001b[0m\u001b[0;34m=\u001b[0m\u001b[0mobject\u001b[0m\u001b[0;34m)\u001b[0m\u001b[0;34m\u001b[0m\u001b[0;34m\u001b[0m\u001b[0m\n\u001b[0;32m--> 271\u001b[0;31m         \u001b[0mlabel_cls\u001b[0m \u001b[0;34m=\u001b[0m \u001b[0mself\u001b[0m\u001b[0;34m.\u001b[0m\u001b[0mget_label_cls\u001b[0m\u001b[0;34m(\u001b[0m\u001b[0mlabels\u001b[0m\u001b[0;34m,\u001b[0m \u001b[0mlabel_cls\u001b[0m\u001b[0;34m=\u001b[0m\u001b[0mlabel_cls\u001b[0m\u001b[0;34m,\u001b[0m \u001b[0;34m**\u001b[0m\u001b[0mkwargs\u001b[0m\u001b[0;34m)\u001b[0m\u001b[0;34m\u001b[0m\u001b[0;34m\u001b[0m\u001b[0m\n\u001b[0m\u001b[1;32m    272\u001b[0m         \u001b[0my\u001b[0m \u001b[0;34m=\u001b[0m \u001b[0mlabel_cls\u001b[0m\u001b[0;34m(\u001b[0m\u001b[0mlabels\u001b[0m\u001b[0;34m,\u001b[0m \u001b[0mpath\u001b[0m\u001b[0;34m=\u001b[0m\u001b[0mself\u001b[0m\u001b[0;34m.\u001b[0m\u001b[0mpath\u001b[0m\u001b[0;34m,\u001b[0m \u001b[0;34m**\u001b[0m\u001b[0mkwargs\u001b[0m\u001b[0;34m)\u001b[0m\u001b[0;34m\u001b[0m\u001b[0;34m\u001b[0m\u001b[0m\n\u001b[1;32m    273\u001b[0m         \u001b[0mres\u001b[0m \u001b[0;34m=\u001b[0m \u001b[0mself\u001b[0m\u001b[0;34m.\u001b[0m\u001b[0m_label_list\u001b[0m\u001b[0;34m(\u001b[0m\u001b[0mx\u001b[0m\u001b[0;34m=\u001b[0m\u001b[0mself\u001b[0m\u001b[0;34m,\u001b[0m \u001b[0my\u001b[0m\u001b[0;34m=\u001b[0m\u001b[0my\u001b[0m\u001b[0;34m)\u001b[0m\u001b[0;34m\u001b[0m\u001b[0;34m\u001b[0m\u001b[0m\n",
      "\u001b[0;32m/opt/conda/lib/python3.6/site-packages/fastai/data_block.py\u001b[0m in \u001b[0;36mget_label_cls\u001b[0;34m(self, labels, label_cls, label_delim, **kwargs)\u001b[0m\n\u001b[1;32m    258\u001b[0m         \u001b[0;32mif\u001b[0m \u001b[0mself\u001b[0m\u001b[0;34m.\u001b[0m\u001b[0mlabel_cls\u001b[0m \u001b[0;32mis\u001b[0m \u001b[0;32mnot\u001b[0m \u001b[0;32mNone\u001b[0m\u001b[0;34m:\u001b[0m          \u001b[0;32mreturn\u001b[0m \u001b[0mself\u001b[0m\u001b[0;34m.\u001b[0m\u001b[0mlabel_cls\u001b[0m\u001b[0;34m\u001b[0m\u001b[0;34m\u001b[0m\u001b[0m\n\u001b[1;32m    259\u001b[0m         \u001b[0;32mif\u001b[0m \u001b[0mlabel_delim\u001b[0m \u001b[0;32mis\u001b[0m \u001b[0;32mnot\u001b[0m \u001b[0;32mNone\u001b[0m\u001b[0;34m:\u001b[0m             \u001b[0;32mreturn\u001b[0m \u001b[0mMultiCategoryList\u001b[0m\u001b[0;34m\u001b[0m\u001b[0;34m\u001b[0m\u001b[0m\n\u001b[0;32m--> 260\u001b[0;31m         \u001b[0mit\u001b[0m \u001b[0;34m=\u001b[0m \u001b[0mindex_row\u001b[0m\u001b[0;34m(\u001b[0m\u001b[0mlabels\u001b[0m\u001b[0;34m,\u001b[0m\u001b[0;36m0\u001b[0m\u001b[0;34m)\u001b[0m\u001b[0;34m\u001b[0m\u001b[0;34m\u001b[0m\u001b[0m\n\u001b[0m\u001b[1;32m    261\u001b[0m         \u001b[0;32mif\u001b[0m \u001b[0misinstance\u001b[0m\u001b[0;34m(\u001b[0m\u001b[0mit\u001b[0m\u001b[0;34m,\u001b[0m \u001b[0;34m(\u001b[0m\u001b[0mfloat\u001b[0m\u001b[0;34m,\u001b[0m \u001b[0mnp\u001b[0m\u001b[0;34m.\u001b[0m\u001b[0mfloat32\u001b[0m\u001b[0;34m)\u001b[0m\u001b[0;34m)\u001b[0m\u001b[0;34m:\u001b[0m \u001b[0;32mreturn\u001b[0m \u001b[0mFloatList\u001b[0m\u001b[0;34m\u001b[0m\u001b[0;34m\u001b[0m\u001b[0m\n\u001b[1;32m    262\u001b[0m         \u001b[0;32mif\u001b[0m \u001b[0misinstance\u001b[0m\u001b[0;34m(\u001b[0m\u001b[0mtry_int\u001b[0m\u001b[0;34m(\u001b[0m\u001b[0mit\u001b[0m\u001b[0;34m)\u001b[0m\u001b[0;34m,\u001b[0m \u001b[0;34m(\u001b[0m\u001b[0mstr\u001b[0m\u001b[0;34m,\u001b[0m \u001b[0mIntegral\u001b[0m\u001b[0;34m)\u001b[0m\u001b[0;34m)\u001b[0m\u001b[0;34m:\u001b[0m  \u001b[0;32mreturn\u001b[0m \u001b[0mCategoryList\u001b[0m\u001b[0;34m\u001b[0m\u001b[0;34m\u001b[0m\u001b[0m\n",
      "\u001b[0;32m/opt/conda/lib/python3.6/site-packages/fastai/core.py\u001b[0m in \u001b[0;36mindex_row\u001b[0;34m(a, idxs)\u001b[0m\n\u001b[1;32m    274\u001b[0m         \u001b[0;32mif\u001b[0m \u001b[0misinstance\u001b[0m\u001b[0;34m(\u001b[0m\u001b[0mres\u001b[0m\u001b[0;34m,\u001b[0m\u001b[0;34m(\u001b[0m\u001b[0mpd\u001b[0m\u001b[0;34m.\u001b[0m\u001b[0mDataFrame\u001b[0m\u001b[0;34m,\u001b[0m\u001b[0mpd\u001b[0m\u001b[0;34m.\u001b[0m\u001b[0mSeries\u001b[0m\u001b[0;34m)\u001b[0m\u001b[0;34m)\u001b[0m\u001b[0;34m:\u001b[0m \u001b[0;32mreturn\u001b[0m \u001b[0mres\u001b[0m\u001b[0;34m.\u001b[0m\u001b[0mcopy\u001b[0m\u001b[0;34m(\u001b[0m\u001b[0;34m)\u001b[0m\u001b[0;34m\u001b[0m\u001b[0;34m\u001b[0m\u001b[0m\n\u001b[1;32m    275\u001b[0m         \u001b[0;32mreturn\u001b[0m \u001b[0mres\u001b[0m\u001b[0;34m\u001b[0m\u001b[0;34m\u001b[0m\u001b[0m\n\u001b[0;32m--> 276\u001b[0;31m     \u001b[0;32mreturn\u001b[0m \u001b[0ma\u001b[0m\u001b[0;34m[\u001b[0m\u001b[0midxs\u001b[0m\u001b[0;34m]\u001b[0m\u001b[0;34m\u001b[0m\u001b[0;34m\u001b[0m\u001b[0m\n\u001b[0m\u001b[1;32m    277\u001b[0m \u001b[0;34m\u001b[0m\u001b[0m\n\u001b[1;32m    278\u001b[0m \u001b[0;32mdef\u001b[0m \u001b[0mfunc_args\u001b[0m\u001b[0;34m(\u001b[0m\u001b[0mfunc\u001b[0m\u001b[0;34m)\u001b[0m\u001b[0;34m->\u001b[0m\u001b[0mbool\u001b[0m\u001b[0;34m:\u001b[0m\u001b[0;34m\u001b[0m\u001b[0;34m\u001b[0m\u001b[0m\n",
      "\u001b[0;31mIndexError\u001b[0m: index 0 is out of bounds for axis 0 with size 0"
     ]
    }
   ],
   "source": [
    "image_data = ImageDataBunch.from_folder(image_path,file_names, \\\n",
    "                                         ds_tfms = get_transforms(), \\\n",
    "                                         size = 224)"
   ]
  },
  {
   "cell_type": "code",
   "execution_count": 38,
   "metadata": {},
   "outputs": [
    {
     "name": "stdout",
     "output_type": "stream",
     "text": [
      "ImageDataBunch;\n",
      "\n",
      "Train: LabelList (368 items)\n",
      "x: ImageList\n",
      "Image (3, 224, 224),Image (3, 224, 224),Image (3, 224, 224),Image (3, 224, 224),Image (3, 224, 224)\n",
      "y: CategoryList\n",
      "Nhe_FL5.JPG,Nmi_1927.JPG,Nfr_4359.JPG,Nar_GA137.JPG,Nmi_MI244.JPG\n",
      "Path: ../data/images;\n",
      "\n",
      "Valid: LabelList (0 items)\n",
      "x: ImageList\n",
      "\n",
      "y: CategoryList\n",
      "\n",
      "Path: ../data/images;\n",
      "\n",
      "Test: None\n"
     ]
    }
   ],
   "source": [
    "print(image_data)"
   ]
  },
  {
   "cell_type": "code",
   "execution_count": 40,
   "metadata": {},
   "outputs": [
    {
     "name": "stdout",
     "output_type": "stream",
     "text": [
      "['Nar_AL117.JPG', 'Nar_AL119.JPG', 'Nar_AL120.JPG', 'Nar_AL66.JPG', 'Nar_AL67.JPG', 'Nar_AL68.JPG', 'Nar_AL70.JPG', 'Nar_FL122.JPG', 'Nar_FL124.JPG', 'Nar_FL125.JPG', 'Nar_FL126.JPG', 'Nar_FL127.JPG', 'Nar_FL128.JPG', 'Nar_FL129.JPG', 'Nar_FL130.JPG', 'Nar_FL131.JPG', 'Nar_FL132.JPG', 'Nar_FL133.JPG', 'Nar_FL134.JPG', 'Nar_FL39.JPG', 'Nar_FL40.JPG', 'Nar_FL41.JPG', 'Nar_FL42.JPG', 'Nar_FL43.JPG', 'Nar_FL44.JPG', 'Nar_FL45.JPG', 'Nar_FL46.JPG', 'Nar_FL47.JPG', 'Nar_FL48.JPG', 'Nar_FL49.JPG', 'Nar_FL50.JPG', 'Nar_FL51.JPG', 'Nar_FL52.JPG', 'Nar_FL53.JPG', 'Nar_FL54.JPG', 'Nar_FL55.JPG', 'Nar_FL57.JPG', 'Nar_FL58.JPG', 'Nar_FL59.JPG', 'Nar_GA135.JPG', 'Nar_GA136.JPG', 'Nar_GA138.JPG', 'Nar_GA139.JPG', 'Nar_GA140.JPG', 'Nar_GA141.JPG', 'Nar_GA142.JPG', 'Nar_GA143.JPG', 'Nar_GA31.JPG', 'Nar_GA32.JPG', 'Nar_GA33.JPG', 'Nar_GA34.JPG', 'Nar_GA35.JPG', 'Nar_GA36.JPG', 'Nar_LA103.JPG', 'Nar_LA104.JPG', 'Nar_LA105.JPG', 'Nar_LA71.JPG', 'Nar_LA72.JPG', 'Nar_LA73.JPG', 'Nar_LA74.JPG', 'Nar_MS106.JPG', 'Nar_MS108.JPG', 'Nar_MS109.JPG', 'Nar_MS111.JPG', 'Nar_MS112.JPG', 'Nar_MS113.JPG', 'Nar_MS114.JPG', 'Nar_MS_116.JPG', 'Nar_NC144.JPG', 'Nar_NC145.JPG', 'Nar_NC146.JPG', 'Nar_NC147.JPG', 'Nar_NC148.JPG', 'Nar_NC149.JPG', 'Nar_NC150.JPG', 'Nar_NC151.JPG', 'Nar_NC152.JPG', 'Nar_NC153.JPG', 'Nar_NC155.JPG', 'Nar_NC25.JPG', 'Nar_NC26.JPG', 'Nar_NC27.JPG', 'Nar_NC28.JPG', 'Nar_NC29.JPG', 'Nar_NC30.JPG', 'Nar_NJ1.JPG', 'Nar_NJ10.JPG', 'Nar_NJ11.JPG', 'Nar_NJ12.JPG', 'Nar_NJ13.JPG', 'Nar_NJ2.JPG', 'Nar_NJ3.JPG', 'Nar_NJ4.JPG', 'Nar_NJ5.JPG', 'Nar_NJ6.JPG', 'Nar_NJ7.JPG', 'Nar_NJ9.JPG', 'Nar_TX60.JPG', 'Nar_TX61.JPG', 'Nar_TX62.JPG', 'Nar_TX63.JPG', 'Nar_TX65.JPG', 'Nar_VA14.JPG', 'Nar_VA15.JPG', 'Nar_VA17.JPG', 'Nar_VA18.JPG', 'Nar_VA19.JPG', 'Nar_VA20.JPG', 'Nar_VA21.JPG', 'Nar_VA22.JPG', 'Nar_VA23.JPG', 'Nar_alt.JPG', 'Nar_alt10.JPG', 'Nar_alt11.JPG', 'Nar_alt2.JPG', 'Nar_alt3.JPG', 'Nar_alt4.JPG', 'Nar_alt5.JPG', 'Nar_alt7.JPG', 'Nar_alt8.JPG', 'Nf_4298.JPG', 'Nfr_4273.JPG', 'Nfr_4278.JPG', 'Nfr_4284.JPG', 'Nfr_4288.JPG', 'Nfr_4293.JPG', 'Nfr_4304.JPG', 'Nfr_4309.JPG', 'Nfr_4314.JPG', 'Nfr_4319.JPG', 'Nfr_4329.JPG', 'Nfr_4334.JPG', 'Nfr_4344.JPG', 'Nfr_4349.JPG', 'Nfr_4359.JPG', 'Nfr_NC1.JPG', 'Nhe_FL0.JPG', 'Nhe_FL10.JPG', 'Nhe_FL12.JPG', 'Nhe_FL13.JPG', 'Nhe_FL14.JPG', 'Nhe_FL15.JPG', 'Nhe_FL3.JPG', 'Nhe_FL4.JPG', 'Nhe_FL5.JPG', 'Nhe_FL7.JPG', 'Nhe_FL9.JPG', 'Nhe_GA30.JPG', 'Nhe_GA31.JPG', 'Nhe_GA33.JPG', 'Nhe_GA34.JPG', 'Nhe_GA35.JPG', 'Nhe_MS16.JPG', 'Nhe_MS17.JPG', 'Nhe_MS18.JPG', 'Nhe_MS20.JPG', 'Nhe_MS22.JPG', 'Nhe_MS23.JPG', 'Nhe_MS24.JPG', 'Nhe_MS25.JPG', 'Nhe_MS26.JPG', 'Nhe_MS27.JPG', 'Nhe_MS28.JPG', 'Nhe_MS29.JPG', 'Nhe_NJ.4.JPG', 'Nhe_NJ55.JPG', 'Nhe_NJ57.JPG', 'Nhe_NJ58.JPG', 'Nhe_NJ59.JPG', 'Nhe_NJ60.JPG', 'Nhe_NJ61.JPG', 'Nhe_NJ62.JPG', 'Nhe_NJ67.JPG', 'Nhe_NJ68.JPG', 'Nhe_NJ71.JPG', 'Nhe_NJ73.JPG', 'Nhe_NJ74.JPG', 'Nhe_NJ75.JPG', 'Nhe_NJ76.JPG', 'Nhe_VA2.JPG', 'Nhe_VA36.JPG', 'Nhe_VA37.JPG', 'Nhe_VA39.JPG', 'Nhe_VA40.JPG', 'Nhe_VA41.JPG', 'Nhe_VA42.JPG', 'Nhe_VA43.JPG', 'Nhe_VA44.JPG', 'Nhe_VA45.JPG', 'Nhe_VA46.JPG', 'Nhe_VA48.JPG', 'Nhe_VA49.JPG', 'Nhe_VA53.JPG', 'Nhe_a1.JPG', 'Nmi_1855.JPG', 'Nmi_1879.JPG', 'Nmi_1897.JPG', 'Nmi_1898.JPG', 'Nmi_1899.JPG', 'Nmi_1900.JPG', 'Nmi_1901.JPG', 'Nmi_1902.JPG', 'Nmi_1903.JPG', 'Nmi_1904.JPG', 'Nmi_1905.JPG', 'Nmi_1906.JPG', 'Nmi_1907.JPG', 'Nmi_1909.JPG', 'Nmi_1910.JPG', 'Nmi_1911.JPG', 'Nmi_1912.JPG', 'Nmi_1913.JPG', 'Nmi_1915.JPG', 'Nmi_1916.JPG', 'Nmi_1918.JPG', 'Nmi_1919.JPG', 'Nmi_1920.JPG', 'Nmi_1921.JPG', 'Nmi_1922.JPG', 'Nmi_1923.JPG', 'Nmi_1924.JPG', 'Nmi_1926.JPG', 'Nmi_1927.JPG', 'Nmi_1929.JPG', 'Nmi_1930.JPG', 'Nmi_1931.JPG', 'Nmi_1932.JPG', 'Nmi_1933.JPG', 'Nmi_1938.JPG', 'Nmi_1940.JPG', 'Nmi_1941.JPG', 'Nmi_1942.JPG', 'Nmi_1946.JPG', 'Nmi_1948.JPG', 'Nmi_1949.JPG', 'Nmi_1950.JPG', 'Nmi_1951.JPG', 'Nmi_1952.JPG', 'Nmi_1954.JPG', 'Nmi_1956.JPG', 'Nmi_1958.JPG', 'Nmi_IN115.JPG', 'Nmi_MI101.JPG', 'Nmi_MI188.JPG', 'Nmi_MI189.JPG', 'Nmi_MI190.JPG', 'Nmi_MI191.JPG', 'Nmi_MI193.JPG', 'Nmi_MI196.JPG', 'Nmi_MI198.JPG', 'Nmi_MI203.JPG', 'Nmi_MI205.JPG', 'Nmi_MI208.JPG', 'Nmi_MI209.JPG', 'Nmi_MI210.JPG', 'Nmi_MI211.JPG', 'Nmi_MI212.JPG', 'Nmi_MI213.JPG', 'Nmi_MI215.JPG', 'Nmi_MI217.JPG', 'Nmi_MI219.JPG', 'Nmi_MI220.JPG', 'Nmi_MI222.JPG', 'Nmi_MI223.JPG', 'Nmi_MI224.JPG', 'Nmi_MI225.JPG', 'Nmi_MI226.JPG', 'Nmi_MI227.JPG', 'Nmi_MI229.JPG', 'Nmi_MI230.JPG', 'Nmi_MI232.JPG', 'Nmi_MI233.JPG', 'Nmi_MI234.JPG', 'Nmi_MI236.JPG', 'Nmi_MI238.JPG', 'Nmi_MI239.JPG', 'Nmi_MI240.JPG', 'Nmi_MI241.JPG', 'Nmi_MI242.JPG', 'Nmi_MI243.JPG', 'Nmi_MI244.JPG', 'Nmi_MI245.JPG', 'Nmi_MI247.JPG', 'Nmi_MI248.JPG', 'Nmi_MI249.JPG', 'Nmi_MI250.JPG', 'Nmi_MI254.JPG', 'Nmi_MI255.JPG', 'Nmi_MI256.JPG', 'Nmi_MI257.JPG', 'Nmi_MI272.JPG', 'Nmi_MI273.JPG', 'Nmi_MI274.JPG', 'Nmi_MI275.JPG', 'Nmi_MI3.JPG', 'Nmi_MI300.JPG', 'Nmi_MI301.JPG', 'Nmi_MI302.JPG', 'Nmi_MI304.JPG', 'Nmi_MI305.JPG', 'Nmi_MI306.JPG', 'Nmi_MI307.JPG', 'Nmi_MI308.JPG', 'Nmi_MI309.JPG', 'Nmi_MI310.JPG', 'Nmi_MI313.JPG', 'Nmi_MI314.JPG', 'Nmi_MI315.JPG', 'Nmi_MI316.JPG', 'Nmi_MI317.JPG', 'Nmi_MI318.JPG', 'Nmi_MI320.JPG', 'Nmi_MI321.JPG', 'Nmi_MI322.JPG', 'Nmi_MI323.JPG', 'Nmi_MI324.JPG', 'Nmi_MI326.JPG', 'Nmi_MI327.JPG', 'Nmi_MI329.JPG', 'Nmi_MI330.JPG', 'Nmi_MI332.JPG', 'Nmi_MI334.JPG', 'Nmi_MI335.JPG', 'Nmi_MI336.JPG', 'Nmi_MI338.JPG', 'Nmi_MI339.JPG', 'Nmi_MI340.JPG', 'Nmi_MI37.JPG', 'Nmi_MI76.JPG', 'Nmi_MI77.JPG', 'Nmi_MI78.JPG', 'Nmi_MI79.JPG', 'Nmi_MI80.JPG', 'Nmi_MI81.JPG', 'Nmi_MI82.JPG', 'Nmi_MI83.JPG', 'Nmi_MI84.JPG', 'Nmi_MI85.JPG', 'Nmi_MI86.JPG', 'Nmi_MI88.JPG', 'Nmi_MI90.JPG', 'Nmi_MI92.JPG', 'Nmi_MI94.JPG', 'Nmi_MI95.JPG', 'Nmi_MI96.JPG', 'Nmi_MI97.JPG', 'Nmi_NJ103.JPG', 'Nmi_NJ104.JPG', 'Nmi_NJ105.JPG', 'Nmi_NJ106.JPG', 'Nmi_NJ107.JPG', 'Nmi_NJ108.JPG', 'Nmi_NJ110.JPG', 'Nmi_NJ112.JPG', 'Nmi_NJ113.JPG', 'Nmi_NJ114.JPG', 'Nmi_NJ75.JPG', 'Nmi_NJ76.JPG', 'Nmi_NJ77.JPG', 'Nmi_NJ79.JPG', 'Nmi_NJ80.JPG', 'Nmi_NJ81.JPG', 'Nmi_NJ82.JPG', 'Nmi_NJ83.JPG', 'Nmi_NJ84.JPG', 'Nmi_NJ86.JPG', 'Nmi_alt2.JPG', 'Nmi_alt3.JPG']\n"
     ]
    }
   ],
   "source": [
    "print(image_data.classes)"
   ]
  },
  {
   "cell_type": "code",
   "execution_count": null,
   "metadata": {},
   "outputs": [],
   "source": []
  }
 ],
 "metadata": {
  "kernelspec": {
   "display_name": "Python 3",
   "language": "python",
   "name": "python3"
  },
  "language_info": {
   "codemirror_mode": {
    "name": "ipython",
    "version": 3
   },
   "file_extension": ".py",
   "mimetype": "text/x-python",
   "name": "python",
   "nbconvert_exporter": "python",
   "pygments_lexer": "ipython3",
   "version": "3.6.9"
  }
 },
 "nbformat": 4,
 "nbformat_minor": 2
}
