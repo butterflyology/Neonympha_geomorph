{
 "cells": [
  {
   "cell_type": "markdown",
   "metadata": {},
   "source": [
    "### New notebook to classify butterflies"
   ]
  },
  {
   "cell_type": "code",
   "execution_count": 1,
   "metadata": {},
   "outputs": [],
   "source": [
    "import torch\n",
    "from torchvision import datasets, transforms\n",
    "from torch.utils.data import DataLoader\n",
    "import torch.optim as optim\n",
    "import torch.nn as nn\n",
    "import torch.nn.functional as F\n",
    "\n",
    "from sklearn.metrics import confusion_matrix\n",
    "import numpy as np\n",
    "\n",
    "import matplotlib.pyplot as plt\n",
    "import seaborn as sns\n",
    "\n",
    "from sklearn.metrics import accuracy_score, precision_score, recall_score, f1_score\n"
   ]
  },
  {
   "cell_type": "code",
   "execution_count": 2,
   "metadata": {},
   "outputs": [],
   "source": [
    "# Paths to your datasets\n",
    "base_dir = '../data/images/train_test_validate'\n",
    "train_dir = f'{base_dir}/train'\n",
    "test_dir = f'{base_dir}/test'\n",
    "validate_dir = f'{base_dir}/validation'"
   ]
  },
  {
   "cell_type": "code",
   "execution_count": 3,
   "metadata": {},
   "outputs": [],
   "source": [
    "# Define transformations\n",
    "transform = transforms.Compose([\n",
    "    transforms.Resize((256, 256)),  # Resize the images to a fixed size\n",
    "    transforms.ToTensor(),  # Convert the images to PyTorch tensors\n",
    "    transforms.Normalize(mean=[0.485, 0.456, 0.406], std=[0.229, 0.224, 0.225])  # Normalize the images\n",
    "])"
   ]
  },
  {
   "cell_type": "code",
   "execution_count": 4,
   "metadata": {},
   "outputs": [],
   "source": [
    "# Load the datasets\n",
    "train_dataset = datasets.ImageFolder(root=train_dir, transform=transform)\n",
    "test_dataset = datasets.ImageFolder(root=test_dir, transform=transform)\n",
    "validate_dataset = datasets.ImageFolder(root=validate_dir, transform=transform)\n",
    "\n",
    "# Create data loaders for each set\n",
    "train_loader = DataLoader(train_dataset, batch_size=32, shuffle=True)\n",
    "test_loader = DataLoader(test_dataset, batch_size=32, shuffle=False)\n",
    "validate_loader = DataLoader(validate_dataset, batch_size=32, shuffle=False)"
   ]
  },
  {
   "cell_type": "code",
   "execution_count": 5,
   "metadata": {},
   "outputs": [],
   "source": [
    "class ButterflyCNN(nn.Module):\n",
    "    def __init__(self):\n",
    "        super(ButterflyCNN, self).__init__()\n",
    "        self.conv1 = nn.Conv2d(3, 32, kernel_size=3, padding=1)  # First convolutional layer\n",
    "        self.conv2 = nn.Conv2d(32, 64, kernel_size=3, padding=1)  # Second convolutional layer\n",
    "        self.conv3 = nn.Conv2d(64, 128, kernel_size=3, padding=1)  # Third convolutional layer\n",
    "        self.pool = nn.MaxPool2d(2, 2)  # Pooling layer\n",
    "        self.fc1 = nn.Linear(128 * 32 * 32, 512)  # First fully connected layer\n",
    "        self.fc2 = nn.Linear(512, 4)  # Second fully connected layer to output the class scores\n",
    "\n",
    "    def forward(self, x):\n",
    "        x = self.pool(F.relu(self.conv1(x)))\n",
    "        x = self.pool(F.relu(self.conv2(x)))\n",
    "        x = self.pool(F.relu(self.conv3(x)))\n",
    "        x = x.view(-1, 128 * 32 * 32)  # Flatten the tensor for the fully connected layer\n",
    "        x = F.relu(self.fc1(x))\n",
    "        x = self.fc2(x)\n",
    "        return x"
   ]
  },
  {
   "cell_type": "code",
   "execution_count": 6,
   "metadata": {},
   "outputs": [],
   "source": [
    "model = ButterflyCNN()\n",
    "\n",
    "# If a GPU is available, move the model to GPU\n",
    "if torch.cuda.is_available():\n",
    "    model.cuda()\n",
    "\n",
    "criterion = nn.CrossEntropyLoss()\n",
    "optimizer = optim.Adam(model.parameters(), lr=0.001)"
   ]
  },
  {
   "cell_type": "code",
   "execution_count": 7,
   "metadata": {},
   "outputs": [
    {
     "name": "stdout",
     "output_type": "stream",
     "text": [
      "Epoch 1, Loss: 2.4243208169937134\n",
      "Epoch 2, Loss: 0.6631616532802582\n",
      "Epoch 3, Loss: 0.5519782811403274\n",
      "Epoch 4, Loss: 0.3741017460823059\n",
      "Epoch 5, Loss: 0.43407687544822693\n",
      "Epoch 6, Loss: 0.2507506512105465\n",
      "Epoch 7, Loss: 0.1851619050372392\n",
      "Epoch 8, Loss: 0.12358143255114555\n",
      "Epoch 9, Loss: 0.10149192700264394\n",
      "Epoch 10, Loss: 0.055623006029054525\n",
      "Finished Training\n"
     ]
    }
   ],
   "source": [
    "num_epochs = 10  # You can adjust this based on your observation of training performance\n",
    "\n",
    "for epoch in range(num_epochs):\n",
    "    running_loss = 0.0\n",
    "    for inputs, labels in train_loader:\n",
    "        # Move inputs and labels to the appropriate device\n",
    "        if torch.cuda.is_available():\n",
    "            inputs, labels = inputs.cuda(), labels.cuda()\n",
    "\n",
    "        optimizer.zero_grad()\n",
    "\n",
    "        outputs = model(inputs)\n",
    "        loss = criterion(outputs, labels)\n",
    "        loss.backward()\n",
    "        optimizer.step()\n",
    "\n",
    "        running_loss += loss.item()\n",
    "\n",
    "    print(f'Epoch {epoch + 1}, Loss: {running_loss / len(train_loader)}')\n",
    "\n",
    "print('Finished Training')"
   ]
  },
  {
   "cell_type": "markdown",
   "metadata": {},
   "source": [
    "## Model metrics"
   ]
  },
  {
   "cell_type": "code",
   "execution_count": 19,
   "metadata": {},
   "outputs": [
    {
     "data": {
      "image/png": "[encoded data removed]",
      "text/plain": [
       "<Figure size 1000x700 with 2 Axes>"
      ]
     },
     "metadata": {},
     "output_type": "display_data"
    }
   ],
   "source": [
    "# Confusion matrix\n",
    "\n",
    "# Collect all the predictions and true labels\n",
    "all_preds = []\n",
    "all_labels = []\n",
    "\n",
    "model.eval()  # Set the model to evaluation mode\n",
    "\n",
    "with torch.no_grad():\n",
    "    for inputs, labels in test_loader:\n",
    "        if torch.cuda.is_available():\n",
    "            inputs, labels = inputs.cuda(), labels.cuda()\n",
    "\n",
    "        outputs = model(inputs)\n",
    "        _, preds = torch.max(outputs, 1)\n",
    "        \n",
    "        all_preds.extend(preds.cpu().numpy())\n",
    "        all_labels.extend(labels.cpu().numpy())\n",
    "\n",
    "cm = confusion_matrix(all_labels, all_preds)\n",
    "\n",
    "species_names = ['N. mi', 'N. he', 'N. ar', 'N. fr']  # Adjust these based on your dataset labels\n",
    "\n",
    "plt.figure(figsize=(10, 7))\n",
    "sns.heatmap(cm, annot=True, fmt='d', cmap='Blues', xticklabels=species_names, yticklabels=species_names)\n",
    "plt.title('Confusion Matrix')\n",
    "plt.xlabel('Predicted Labels')\n",
    "plt.ylabel('True Labels')\n",
    "plt.show()"
   ]
  },
  {
   "cell_type": "code",
   "execution_count": 30,
   "metadata": {},
   "outputs": [
    {
     "name": "stdout",
     "output_type": "stream",
     "text": [
      "Overall Accuracy: 84.78%\n"
     ]
    }
   ],
   "source": [
    "accuracy = accuracy_score(all_labels, all_preds)\n",
    "print(f'Overall Accuracy: {accuracy*100:.2f}%')"
   ]
  },
  {
   "cell_type": "code",
   "execution_count": 32,
   "metadata": {},
   "outputs": [
    {
     "name": "stdout",
     "output_type": "stream",
     "text": [
      "N. mi: Precision = 0.87, Recall = 0.79\n",
      "N. he: Precision = 0.80, Recall = 1.00\n",
      "N. ar: Precision = 0.67, Recall = 1.00\n",
      "N. fr: Precision = 0.92, Recall = 0.83\n"
     ]
    }
   ],
   "source": [
    "# Calculate precision and recall for each class\n",
    "precision = precision_score(all_labels, all_preds, average=None, labels=[0, 1, 2, 3])\n",
    "recall = recall_score(all_labels, all_preds, average=None, labels=[0, 1, 2, 3])\n",
    "\n",
    "# Print precision and recall for each species (0.7 and up are good)\n",
    "for i, species in enumerate(species_names):\n",
    "    print(f\"{species}: Precision = {precision[i]:.2f}, Recall = {recall[i]:.2f}\")"
   ]
  },
  {
   "cell_type": "code",
   "execution_count": 35,
   "metadata": {},
   "outputs": [
    {
     "name": "stdout",
     "output_type": "stream",
     "text": [
      "N. mi: F1 Score = 0.83\n",
      "N. he: F1 Score = 0.89\n",
      "N. ar: F1 Score = 0.80\n",
      "N. fr: F1 Score = 0.88\n"
     ]
    }
   ],
   "source": [
    "# Calculate F1 score for each class\n",
    "f1_scores = f1_score(all_labels, all_preds, average=None, labels=[0, 1, 2, 3])\n",
    "\n",
    "# Print F1 score for each species\n",
    "for i, species in enumerate(species_names):\n",
    "    print(f\"{species}: F1 Score = {f1_scores[i]:.2f}\")\n",
    "\n",
    "# 0.7 - 0.9: Very Good - F1 scores in this range are considered very good, indicating that the model performs well at balancing false positives and false negatives. Models in this range are likely to be very effective for their intended application.    "
   ]
  },
  {
   "cell_type": "markdown",
   "metadata": {},
   "source": [
    "#### Visualizing the differences"
   ]
  },
  {
   "cell_type": "code",
   "execution_count": 8,
   "metadata": {},
   "outputs": [],
   "source": [
    "# Grad-CAM (Gradient-weighted Class Activation Mapping)\n",
    "\n"
   ]
  },
  {
   "cell_type": "code",
   "execution_count": null,
   "metadata": {},
   "outputs": [],
   "source": []
  },
  {
   "cell_type": "markdown",
   "metadata": {},
   "source": [
    "## Pseudo-Augmentation (ala Jeremy Howard)"
   ]
  },
  {
   "cell_type": "markdown",
   "metadata": {},
   "source": [
    "#### Please note, that after reasonable testing.... this does not improve the model"
   ]
  },
  {
   "cell_type": "code",
   "execution_count": null,
   "metadata": {},
   "outputs": [],
   "source": [
    "import shutil\n",
    "import os\n",
    "\n",
    "from torchvision import datasets, transforms"
   ]
  },
  {
   "cell_type": "code",
   "execution_count": null,
   "metadata": {},
   "outputs": [],
   "source": [
    "\n",
    "def copy_dataset(src, dst):\n",
    "    if os.path.exists(dst):\n",
    "        shutil.rmtree(dst)  # Remove the destination dir if it already exists\n",
    "    shutil.copytree(src, dst)\n",
    "\n",
    "source_dir = 'images/train_test_validate'\n",
    "destination_dir = 'images/augmented_train_test_validate'\n",
    "\n",
    "copy_dataset(source_dir, destination_dir)\n",
    "\n",
    "\n",
    "# Define your transformations for augmentation\n",
    "train_transforms = transforms.Compose([\n",
    "    transforms.RandomResizedCrop(256),  # Randomly crop images\n",
    "    transforms.RandomHorizontalFlip(),  # Randomly flip images horizontally\n",
    "    transforms.RandomRotation(15),  # Randomly rotate images by up to 15 degrees\n",
    "    transforms.ToTensor(),\n",
    "    transforms.Normalize(mean=[0.485, 0.456, 0.406], std=[0.229, 0.224, 0.225]),\n",
    "])\n",
    "\n",
    "# Apply only resize and normalization for validation and test sets\n",
    "test_val_transforms = transforms.Compose([\n",
    "    transforms.Resize(256),\n",
    "    transforms.CenterCrop(256),\n",
    "    transforms.ToTensor(),\n",
    "    transforms.Normalize(mean=[0.485, 0.456, 0.406], std=[0.229, 0.224, 0.225]),\n",
    "])\n",
    "\n",
    "# Load the datasets with ImageFolder\n",
    "train_dataset = datasets.ImageFolder(root=f'{destination_dir}/train', transform=train_transforms)\n",
    "validate_dataset = datasets.ImageFolder(root=f'{destination_dir}/validate', transform=test_val_transforms)\n",
    "test_dataset = datasets.ImageFolder(root=f'{destination_dir}/test', transform=test_val_transforms)\n",
    "\n",
    "# Create data loaders\n",
    "train_loader = DataLoader(train_dataset, batch_size=32, shuffle=True)\n",
    "validate_loader = DataLoader(validate_dataset, batch_size=32, shuffle=False)\n",
    "test_loader = DataLoader(test_dataset, batch_size=32, shuffle=False)"
   ]
  },
  {
   "cell_type": "code",
   "execution_count": 38,
   "metadata": {},
   "outputs": [],
   "source": [
    "import os\n",
    "import shutil\n",
    "from PIL import Image\n",
    "import torchvision.transforms as transforms\n",
    "from torchvision import datasets\n",
    "from torch.utils.data import DataLoader"
   ]
  },
  {
   "cell_type": "code",
   "execution_count": 46,
   "metadata": {},
   "outputs": [],
   "source": [
    "def copy_dataset(src, dst):\n",
    "    if os.path.exists(dst):\n",
    "        shutil.rmtree(dst)  # Remove the destination dir if it already exists\n",
    "    shutil.copytree(src, dst)\n",
    "\n",
    "source_dir = '../data/images/train_test_validate'\n",
    "destination_dir = '../data/images/augmented_train_test_validate'\n",
    "\n",
    "copy_dataset(source_dir, destination_dir)\n",
    "\n",
    "# Define your transformations for augmentation\n",
    "save_train_transforms = transforms.Compose([\n",
    "    transforms.RandomResizedCrop(256),  # Randomly crop images\n",
    "    transforms.RandomHorizontalFlip(),  # Randomly flip images horizontally\n",
    "    transforms.RandomRotation(15),  # Randomly rotate images by up to 15 degrees\n",
    "    # No need for ToTensor or Normalize here since we're saving images directly\n",
    "])\n",
    "\n",
    "def augment_images(directory, transform, copies=3):\n",
    "    for root, _, files in os.walk(directory):\n",
    "        for file in files:\n",
    "            if file.lower().endswith(('png', 'jpg', 'jpeg')):\n",
    "                path = os.path.join(root, file)\n",
    "                image = Image.open(path)\n",
    "                for i in range(copies):  # Generate 'copies' number of augmented images\n",
    "                    # Apply the transformation\n",
    "                    augmented_image = transform(image)\n",
    "                    # Save the augmented image\n",
    "                    save_path = os.path.join(root, f\"aug_{i}_{file}\")\n",
    "                    augmented_image.save(save_path)\n",
    "\n",
    "# Apply the augmentation to the training directory only\n",
    "augment_images(os.path.join(destination_dir, 'train'), save_train_transforms, copies=3)  # Aim to quadruple the dataset size\n",
    "\n",
    "# Define transformations for loading images into PyTorch, including normalization\n",
    "train_transforms = transforms.Compose([\n",
    "    transforms.RandomResizedCrop(256),\n",
    "    transforms.RandomHorizontalFlip(),\n",
    "    transforms.RandomRotation(15),\n",
    "    transforms.ToTensor(),\n",
    "    transforms.Normalize(mean=[0.485, 0.456, 0.406], std=[0.229, 0.224, 0.225]),\n",
    "])\n",
    "\n",
    "# Apply only resize and normalization for validation and test sets\n",
    "test_val_transforms = transforms.Compose([\n",
    "    transforms.Resize(256),\n",
    "    transforms.CenterCrop(256),\n",
    "    transforms.ToTensor(),\n",
    "    transforms.Normalize(mean=[0.485, 0.456, 0.406], std=[0.229, 0.224, 0.225]),\n",
    "])\n",
    "\n",
    "# Load the augmented datasets\n",
    "train_dataset = datasets.ImageFolder(root=f'{destination_dir}/train', transform=train_transforms)\n",
    "validate_dataset = datasets.ImageFolder(root=f'{destination_dir}/validation', transform=test_val_transforms)\n",
    "test_dataset = datasets.ImageFolder(root=f'{destination_dir}/test', transform=test_val_transforms)\n",
    "\n",
    "# Create data loaders\n",
    "train_loader = DataLoader(train_dataset, batch_size=32, shuffle=True)\n",
    "validate_loader = DataLoader(validate_dataset, batch_size=32, shuffle=False)\n",
    "test_loader = DataLoader(test_dataset, batch_size=32, shuffle=False)"
   ]
  },
  {
   "cell_type": "code",
   "execution_count": 48,
   "metadata": {},
   "outputs": [],
   "source": [
    "class ButterflyCNN(nn.Module):\n",
    "    def __init__(self):\n",
    "        super(ButterflyCNN, self).__init__()\n",
    "        self.conv1 = nn.Conv2d(3, 32, kernel_size=3, padding=1)  # First convolutional layer\n",
    "        self.conv2 = nn.Conv2d(32, 64, kernel_size=3, padding=1)  # Second convolutional layer\n",
    "        self.conv3 = nn.Conv2d(64, 128, kernel_size=3, padding=1)  # Third convolutional layer\n",
    "        self.pool = nn.MaxPool2d(2, 2)  # Pooling layer\n",
    "        self.fc1 = nn.Linear(128 * 32 * 32, 512)  # First fully connected layer\n",
    "        self.fc2 = nn.Linear(512, 4)  # Second fully connected layer to output the class scores\n",
    "\n",
    "    def forward(self, x):\n",
    "        x = self.pool(F.relu(self.conv1(x)))\n",
    "        x = self.pool(F.relu(self.conv2(x)))\n",
    "        x = self.pool(F.relu(self.conv3(x)))\n",
    "        x = x.view(-1, 128 * 32 * 32)  # Flatten the tensor for the fully connected layer\n",
    "        x = F.relu(self.fc1(x))\n",
    "        x = self.fc2(x)\n",
    "        return x"
   ]
  },
  {
   "cell_type": "code",
   "execution_count": 49,
   "metadata": {},
   "outputs": [
    {
     "name": "stdout",
     "output_type": "stream",
     "text": [
      "Epoch 1, Loss: 1.0420068913214915\n",
      "Epoch 2, Loss: 0.5989861899131054\n",
      "Epoch 3, Loss: 0.5639108226105973\n",
      "Epoch 4, Loss: 0.5683604986281008\n",
      "Epoch 5, Loss: 0.5486894668759527\n",
      "Epoch 6, Loss: 0.5340574520665247\n",
      "Epoch 7, Loss: 0.5070215366982125\n",
      "Epoch 8, Loss: 0.51759790729832\n",
      "Epoch 9, Loss: 0.5230402141003996\n",
      "Epoch 10, Loss: 0.5001078384953577\n",
      "Finished Training\n"
     ]
    }
   ],
   "source": [
    "model = ButterflyCNN()\n",
    "\n",
    "# If a GPU is available, move the model to GPU\n",
    "if torch.cuda.is_available():\n",
    "    model.cuda()\n",
    "\n",
    "criterion = nn.CrossEntropyLoss()\n",
    "optimizer = optim.Adam(model.parameters(), lr=0.001)\n",
    "\n",
    "num_epochs = 10  # You can adjust this based on your observation of training performance\n",
    "\n",
    "for epoch in range(num_epochs):\n",
    "    running_loss = 0.0\n",
    "    for inputs, labels in train_loader:\n",
    "        # Move inputs and labels to the appropriate device\n",
    "        if torch.cuda.is_available():\n",
    "            inputs, labels = inputs.cuda(), labels.cuda()\n",
    "\n",
    "        optimizer.zero_grad()\n",
    "\n",
    "        outputs = model(inputs)\n",
    "        loss = criterion(outputs, labels)\n",
    "        loss.backward()\n",
    "        optimizer.step()\n",
    "\n",
    "        running_loss += loss.item()\n",
    "\n",
    "    print(f'Epoch {epoch + 1}, Loss: {running_loss / len(train_loader)}')\n",
    "\n",
    "print('Finished Training')"
   ]
  },
  {
   "cell_type": "code",
   "execution_count": 50,
   "metadata": {},
   "outputs": [],
   "source": [
    "# Collect all the predictions and true labels\n",
    "all_preds = []\n",
    "all_labels = []\n",
    "\n",
    "model.eval()  # Set the model to evaluation mode\n",
    "\n",
    "with torch.no_grad():\n",
    "    for inputs, labels in test_loader:\n",
    "        if torch.cuda.is_available():\n",
    "            inputs, labels = inputs.cuda(), labels.cuda()\n",
    "\n",
    "        outputs = model(inputs)\n",
    "        _, preds = torch.max(outputs, 1)\n",
    "        \n",
    "        all_preds.extend(preds.cpu().numpy())\n",
    "        all_labels.extend(labels.cpu().numpy())"
   ]
  },
  {
   "cell_type": "code",
   "execution_count": 51,
   "metadata": {},
   "outputs": [
    {
     "data": {
      "image/png": "[encoded data removed]",
      "text/plain": [
       "<Figure size 1000x700 with 2 Axes>"
      ]
     },
     "metadata": {},
     "output_type": "display_data"
    }
   ],
   "source": [
    "cm = confusion_matrix(all_labels, all_preds)\n",
    "\n",
    "species_names = ['N. mi', 'N. he', 'N. ar', 'N. fr']  # Adjust these based on your dataset labels\n",
    "\n",
    "plt.figure(figsize=(10, 7))\n",
    "sns.heatmap(cm, annot=True, fmt='d', cmap='Blues', xticklabels=species_names, yticklabels=species_names)\n",
    "plt.title('Confusion Matrix')\n",
    "plt.xlabel('Predicted Labels')\n",
    "plt.ylabel('True Labels')\n",
    "plt.show()"
   ]
  },
  {
   "cell_type": "code",
   "execution_count": 52,
   "metadata": {},
   "outputs": [
    {
     "name": "stdout",
     "output_type": "stream",
     "text": [
      "Overall Accuracy: 75.00%\n",
      "N. mi: Precision = 0.95, Recall = 0.62\n",
      "N. he: Precision = 0.80, Recall = 1.00\n",
      "N. ar: Precision = 0.34, Recall = 0.92\n",
      "N. fr: Precision = 1.00, Recall = 0.79\n",
      "N. mi: F1 Score = 0.75\n",
      "N. he: F1 Score = 0.89\n",
      "N. ar: F1 Score = 0.50\n",
      "N. fr: F1 Score = 0.88\n"
     ]
    }
   ],
   "source": [
    "accuracy = accuracy_score(all_labels, all_preds)\n",
    "print(f'Overall Accuracy: {accuracy*100:.2f}%')\n",
    "\n",
    "# Calculate precision and recall for each class\n",
    "precision = precision_score(all_labels, all_preds, average=None, labels=[0, 1, 2, 3])\n",
    "recall = recall_score(all_labels, all_preds, average=None, labels=[0, 1, 2, 3])\n",
    "\n",
    "# Print precision and recall for each species (0.7 and up are good)\n",
    "for i, species in enumerate(species_names):\n",
    "    print(f\"{species}: Precision = {precision[i]:.2f}, Recall = {recall[i]:.2f}\")\n",
    "\n",
    "# Calculate F1 score for each class\n",
    "f1_scores = f1_score(all_labels, all_preds, average=None, labels=[0, 1, 2, 3])\n",
    "\n",
    "# Print F1 score for each species\n",
    "for i, species in enumerate(species_names):\n",
    "    print(f\"{species}: F1 Score = {f1_scores[i]:.2f}\")    "
   ]
  }
 ],
 "metadata": {
  "kernelspec": {
   "display_name": "keras",
   "language": "python",
   "name": "keras"
  },
  "language_info": {
   "codemirror_mode": {
    "name": "ipython",
    "version": 3
   },
   "file_extension": ".py",
   "mimetype": "text/x-python",
   "name": "python",
   "nbconvert_exporter": "python",
   "pygments_lexer": "ipython3",
   "version": "3.11.4"
  }
 },
 "nbformat": 4,
 "nbformat_minor": 2
}
